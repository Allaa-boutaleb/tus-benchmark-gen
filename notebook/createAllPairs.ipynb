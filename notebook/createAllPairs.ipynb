{
 "cells": [
  {
   "cell_type": "code",
   "execution_count": null,
   "id": "f11a34ad",
   "metadata": {},
   "outputs": [],
   "source": [
    "import pandas as pd\n",
    "import csv\n",
    "import os\n",
    "import pickle5 as p"
   ]
  },
  {
   "cell_type": "code",
   "execution_count": null,
   "id": "1d1fbdd6",
   "metadata": {},
   "outputs": [],
   "source": [
    "def loadDictionaryFromPickleFile(dictionaryPath):\n",
    "    ''' Load the pickle file as a dictionary\n",
    "    Args:\n",
    "        dictionaryPath: path to the pickle file\n",
    "    Return: dictionary from the pickle file\n",
    "    '''\n",
    "    filePointer=open(dictionaryPath, 'rb')\n",
    "    dictionary = p.load(filePointer)\n",
    "    filePointer.close()\n",
    "    return dictionary"
   ]
  },
  {
   "cell_type": "code",
   "execution_count": null,
   "id": "2d75e2f6",
   "metadata": {},
   "outputs": [],
   "source": [
    "new_sample_path = \"../data/table-union-search-benchmark/small\"\n",
    "new_sample_datalake = new_sample_path + \"/benchmark\"\n",
    "new_sample_query_table = new_sample_path + \"/santos-query\"\n",
    "\n",
    "gt_csv = loadDictionaryFromPickleFile(new_sample_path + \"/tus-groundtruth/tusUnionBenchmark.pickle\")"
   ]
  },
  {
   "cell_type": "code",
   "execution_count": null,
   "id": "9a8423b5",
   "metadata": {},
   "outputs": [],
   "source": [
    "datalake_list = os.listdir(new_sample_datalake)\n",
    "query_list = os.listdir(new_sample_query_table)"
   ]
  },
  {
   "cell_type": "code",
   "execution_count": null,
   "id": "d6d673ac",
   "metadata": {},
   "outputs": [],
   "source": [
    "gt_df = gt_csv"
   ]
  },
  {
   "cell_type": "code",
   "execution_count": null,
   "id": "310e5b5b",
   "metadata": {
    "scrolled": true
   },
   "outputs": [],
   "source": [
    "gt_df"
   ]
  },
  {
   "cell_type": "code",
   "execution_count": null,
   "id": "e8faa982",
   "metadata": {},
   "outputs": [],
   "source": [
    "new_data = []\n",
    "for q in query_list:\n",
    "    for d in datalake_list:\n",
    "        unionable_list = gt_csv[q]\n",
    "        if d in unionable_list:\n",
    "            print(\"came to yes\")\n",
    "            new_data.append([q,d,\"yes\"])\n",
    "        else:\n",
    "            print(\"came to no\")\n",
    "            new_data.append([q,d,\"no\"])\n",
    "        \n",
    "new_data_df = pd.DataFrame(new_data, columns=['query_table', 'data_lake_table', 'unionable'])"
   ]
  },
  {
   "cell_type": "code",
   "execution_count": null,
   "id": "9ce870bd",
   "metadata": {},
   "outputs": [],
   "source": [
    "len(new_data_df.loc[new_data_df[\"unionable\"] == 'yes']) #692 unionable\n",
    "len(new_data_df.loc[new_data_df[\"unionable\"] == 'no']) # 26808 non-unionable"
   ]
  },
  {
   "cell_type": "code",
   "execution_count": null,
   "id": "7b27dc37",
   "metadata": {},
   "outputs": [],
   "source": [
    "len(new_data_df.loc[new_data_df[\"unionable\"] == 1]) #692 unionable\n",
    "len(new_data_df.loc[new_data_df[\"unionable\"] == 0]) # 26808 non-unionable"
   ]
  },
  {
   "cell_type": "code",
   "execution_count": null,
   "id": "228a5ed6",
   "metadata": {},
   "outputs": [],
   "source": [
    "#output_path = \"table_union_data/new_labeled_union_gt.csv\"\n",
    "output_path = \"table_union_data/new_labeled_union_gt.csv\"\n",
    "new_data_df.to_csv(output_path)"
   ]
  },
  {
   "cell_type": "code",
   "execution_count": null,
   "id": "88fffb4d",
   "metadata": {},
   "outputs": [],
   "source": []
  }
 ],
 "metadata": {
  "kernelspec": {
   "display_name": "Python 3 (ipykernel)",
   "language": "python",
   "name": "python3"
  },
  "language_info": {
   "codemirror_mode": {
    "name": "ipython",
    "version": 3
   },
   "file_extension": ".py",
   "mimetype": "text/x-python",
   "name": "python",
   "nbconvert_exporter": "python",
   "pygments_lexer": "ipython3",
   "version": "3.10.12"
  }
 },
 "nbformat": 4,
 "nbformat_minor": 5
}

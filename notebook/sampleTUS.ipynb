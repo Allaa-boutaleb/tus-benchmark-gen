{
 "cells": [
  {
   "cell_type": "code",
   "execution_count": null,
   "id": "4a5468f0",
   "metadata": {},
   "outputs": [],
   "source": [
    "import random\n",
    "import pandas as pd"
   ]
  },
  {
   "cell_type": "code",
   "execution_count": null,
   "id": "f5311a30",
   "metadata": {},
   "outputs": [],
   "source": [
    "random.seed(42)"
   ]
  },
  {
   "cell_type": "code",
   "execution_count": null,
   "id": "dbe052ad",
   "metadata": {},
   "outputs": [],
   "source": [
    "file_path = \"../data/tus_new_labeled_union_gt.csv\"\n",
    "df = pd.read_csv(file_path)"
   ]
  },
  {
   "cell_type": "code",
   "execution_count": null,
   "id": "8d7de0ea",
   "metadata": {},
   "outputs": [],
   "source": [
    "non_union_df = df[df[\"unionable\"] == \"no\"]\n",
    "union_df = df[df[\"unionable\"] == \"yes\"]"
   ]
  },
  {
   "cell_type": "code",
   "execution_count": null,
   "id": "f75cc35a",
   "metadata": {},
   "outputs": [],
   "source": [
    "len(non_union_df)"
   ]
  },
  {
   "cell_type": "code",
   "execution_count": null,
   "id": "ef14d014",
   "metadata": {},
   "outputs": [],
   "source": [
    "# Shuffle the rows\n",
    "shuffled_df = non_union_df.sample(frac=1, random_state=42).reset_index(drop=True)\n",
    "\n",
    "non_union_filtered_df = pd.DataFrame(data=None, columns=non_union_df.columns)\n",
    "count_samples_from_each_cluster = {}\n",
    "for idx, row in shuffled_df.iterrows():\n",
    "    table_name = row[\"query_table\"]\n",
    "    data_lake_table_name = row[\"data_lake_table\"]\n",
    "    column_numbers = int(data_lake_table_name.split(\"____\", 1)[-1].split(\"_\",1)[0][-1])\n",
    "    cluster_name = str(table_name.split(\"____\",1)[0])\n",
    "    if column_numbers >= 5:\n",
    "        # Check if the row exists in the DataFrame\n",
    "        is_in_df = non_union_filtered_df[(non_union_filtered_df['query_table'] == data_lake_table_name)\n",
    "                                         & (non_union_filtered_df['data_lake_table'] == table_name)]\n",
    "        if len(is_in_df) >= 1:\n",
    "            continue\n",
    "        if cluster_name not in count_samples_from_each_cluster:\n",
    "            count_samples_from_each_cluster[cluster_name] = 1\n",
    "        if count_samples_from_each_cluster[cluster_name] > 20:\n",
    "            continue\n",
    "        else:\n",
    "            count_samples_from_each_cluster[cluster_name] += 1\n",
    "        non_union_filtered_df = pd.concat([non_union_filtered_df, pd.DataFrame([row])], ignore_index=True)"
   ]
  },
  {
   "cell_type": "code",
   "execution_count": null,
   "id": "2379f393",
   "metadata": {},
   "outputs": [],
   "source": [
    "len(non_union_filtered_df)"
   ]
  },
  {
   "cell_type": "code",
   "execution_count": null,
   "id": "c9b80e40",
   "metadata": {},
   "outputs": [],
   "source": [
    "output_file_path = \"../table_union_data/small_tus_non_union_shuffled_sample.csv\"\n",
    "sampled_data = non_union_filtered_df.sample(n=100, random_state=42)\n",
    "sampled_data.to_csv(output_file_path, index=False)"
   ]
  },
  {
   "cell_type": "code",
   "execution_count": null,
   "id": "9e033bc8",
   "metadata": {},
   "outputs": [],
   "source": []
  }
 ],
 "metadata": {
  "kernelspec": {
   "display_name": "Python 3 (ipykernel)",
   "language": "python",
   "name": "python3"
  },
  "language_info": {
   "codemirror_mode": {
    "name": "ipython",
    "version": 3
   },
   "file_extension": ".py",
   "mimetype": "text/x-python",
   "name": "python",
   "nbconvert_exporter": "python",
   "pygments_lexer": "ipython3",
   "version": "3.9.7"
  }
 },
 "nbformat": 4,
 "nbformat_minor": 5
}
